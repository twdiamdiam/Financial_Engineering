{
  "nbformat": 4,
  "nbformat_minor": 0,
  "metadata": {
    "colab": {
      "name": "Untitled4.ipynb",
      "provenance": []
    },
    "kernelspec": {
      "name": "python3",
      "display_name": "Python 3"
    }
  },
  "cells": [
    {
      "cell_type": "code",
      "metadata": {
        "id": "a8UDA-yTEJ7D",
        "colab_type": "code",
        "colab": {
          "base_uri": "https://localhost:8080/",
          "height": 51
        },
        "outputId": "5ddd1246-03d4-407c-8e8f-7fb495e33520"
      },
      "source": [
        "from numpy import *\n",
        "S=160\n",
        "u=1.5\n",
        "d=0.5\n",
        "R=1.2\n",
        "N=3\n",
        "X=150\n",
        "p=(R-d)/(u-d)\n",
        "S_n=[S]\n",
        "P_n=[1]\n",
        "ud=array([u,d])\n",
        "pq=array([p,1-p])\n",
        "for n in range(1,N+1):\n",
        "  sn=array(S_n[n-1])\n",
        "  sn.transpose()\n",
        "  pn=array(P_n[n-1])\n",
        "  pn.transpose()\n",
        "  if n==1 :\n",
        "    Sn=dot(sn,ud)\n",
        "    Pn=dot(pn,pq)\n",
        "  else:\n",
        "    Sn=outer(sn,ud)\n",
        "    Pn=outer(pn,pq)\n",
        "  S_n.append(Sn.flatten('F'))\n",
        "  P_n.append(Pn.flatten('F'))\n",
        "C,P=0,0\n",
        "for i in range(len(P_n[n])) :\n",
        "  C+=P_n[n][i]*max(0,S_n[n][i]-X)\n",
        "  P+=P_n[n][i]*max(0,X-S_n[n][i])\n",
        "print('call/put')\n",
        "print(str(round(C/R**n,3))+'/'+str(round(P/R**n,3)))"
      ],
      "execution_count": 101,
      "outputs": [
        {
          "output_type": "stream",
          "text": [
            "call/put\n",
            "85.069/11.875\n"
          ],
          "name": "stdout"
        }
      ]
    }
  ]
}