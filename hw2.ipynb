{
  "nbformat": 4,
  "nbformat_minor": 0,
  "metadata": {
    "colab": {
      "name": "hw2.ipynb",
      "provenance": []
    },
    "kernelspec": {
      "name": "python3",
      "display_name": "Python 3"
    }
  },
  "cells": [
    {
      "cell_type": "code",
      "metadata": {
        "id": "eozjIUcdgSwS",
        "colab_type": "code",
        "colab": {}
      },
      "source": [
        "class rate_calculator:\n",
        "  def __init__ (self,price,coupon_rate=0.05,par_value=100):\n",
        "    self.spot=[]\n",
        "    self.forward=[['-'] * len(price)for i in range(len(price))]\n",
        "    self.ytm=[]\n",
        "    for i in range(len(price)):\n",
        "      self.ytm.append(round(pow((((i+1)*coupon_rate+1)*par_value)/price[i],1/(i+1))-1,3))\n",
        "    for i in range(len(price)):\n",
        "      if i == 0 :\n",
        "        self.spot.append(self.ytm[0])\n",
        "      else :\n",
        "        for j in range(i-1):\n",
        "          price[i] -= coupon_rate*par_value/(1+self.spot[j])\n",
        "        self.spot.append(round(pow(((coupon_rate+1)*par_value)/price[i],1/(i+1))-1,3))\n",
        "    for i in range(len(price)):\n",
        "      for j in range(len(price)):\n",
        "        if i < j : \n",
        "          self.forward[i][j]=\\\n",
        "          round(pow(((1+self.spot[j])**(j+1))/((1+self.spot[i])**(i+1)),1/(j-i))-1,3)\n",
        "  def getforward(self,x,y):\n",
        "    return self.forward[x][y]\n",
        "  def getspot(self,y):\n",
        "    return self.spot[y]\n",
        "  def getytm(self,m):\n",
        "    return self.ytm[m]\n",
        "\n",
        "while True:\n",
        "  price_s = input('Input the price sequence (per years):')\n",
        "  price_t = []\n",
        "  for prices in price_s.split(','):\n",
        "    price_t.append(float(prices))\n",
        "  r=rate_calculator(price_t,float(input('Input the Coupon rate(%):'))/100,\\\n",
        "                float(input('Input the Par value:')))\n",
        "  task = input('Key one of (spot rate , forward rate , YTM) :')\n",
        "  if task == 'spot rate':\n",
        "    print(r.getspot(int(input('which year ? :'))-1))\n",
        "  if task == 'forward rate':\n",
        "    print('Please key the indexs i , j with i < j')\n",
        "    print(r.getforward(int(input('i index :'))-1,int(input('j index :'))-1))\n",
        "  if task == 'YTM':\n",
        "    print(r.getytm(int(input('which year ? :'))-1))\n",
        "  if input(\"Key quit to quit :\")=='quit':break"
      ],
      "execution_count": 0,
      "outputs": []
    }
  ]
}