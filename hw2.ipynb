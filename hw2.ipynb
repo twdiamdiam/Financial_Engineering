{
  "nbformat": 4,
  "nbformat_minor": 0,
  "metadata": {
    "colab": {
      "name": "Untitled3.ipynb",
      "provenance": []
    },
    "kernelspec": {
      "name": "python3",
      "display_name": "Python 3"
    }
  },
  "cells": [
    {
      "cell_type": "code",
      "metadata": {
        "id": "eozjIUcdgSwS",
        "colab_type": "code",
        "colab": {
          "base_uri": "https://localhost:8080/",
          "height": 317
        },
        "outputId": "1da819a5-9a70-49fe-fcfe-a854a1153b9a"
      },
      "source": [
        "class rate_calculator:\n",
        "  def __init__ (self,price,coupon_rate=0.05,par_value=100):\n",
        "    self.spot=[]\n",
        "    self.forward=[['-'] * len(price)for i in range(len(price))]\n",
        "    self.ytm=[]\n",
        "    for i in range(len(price)):\n",
        "      self.ytm.append(round(pow((((i+1)*coupon_rate+1)*par_value)/price[i],1/(i+1))-1,3))\n",
        "    for i in range(len(price)):\n",
        "      if i == 0 :\n",
        "        self.spot.append(self.ytm[0])\n",
        "      else :\n",
        "        for j in range(i-1):\n",
        "          price[i] -= coupon_rate*par_value/(1+self.spot[j])\n",
        "        self.spot.append(round(pow(((coupon_rate+1)*par_value)/price[i],1/(i+1))-1,3))\n",
        "    for i in range(len(price)):\n",
        "      for j in range(len(price)):\n",
        "        if i < j : \n",
        "          self.forward[i][j]=\\\n",
        "          round(pow(((1+self.spot[j])**(j+1))/((1+self.spot[i])**(i+1)),1/(j-i))-1,3)\n",
        "  def getforward(self,x,y):\n",
        "    return self.forward[x][y]\n",
        "  def getspot(self,y):\n",
        "    return self.spot[y]\n",
        "  def getytm(self,m):\n",
        "    return self.ytm[m]\n",
        "\n",
        "while True:\n",
        "  price_s = input('Input the price sequence (per years):')\n",
        "  price_t = []\n",
        "  for prices in price_s.split(','):\n",
        "    price_t.append(float(prices))\n",
        "  r=rate_calculator(price_t,float(input('Input the Coupon rate(%):'))/100,\\\n",
        "                float(input('Input the Par value:')))\n",
        "  task = input('Key one of (spot rate , forward rate , YTM) :')\n",
        "  if task == 'spot rate':\n",
        "    print(r.getspot(int(input('which year ? :'))-1))\n",
        "  if task == 'forward rate':\n",
        "    print('Please key the indexs i , j with i < j')\n",
        "    print(r.getforward(int(input('i index :'))-1,int(input('j index :'))-1))\n",
        "  if task == 'YTM':\n",
        "    print(r.getytm(int(input('which year ? :'))-1))\n",
        "  if input(\"Key quit to quit :\")=='quit':break"
      ],
      "execution_count": 16,
      "outputs": [
        {
          "output_type": "stream",
          "text": [
            "Input the price sequence (per years):100,100,100\n",
            "Input the Coupon rate(%):5\n",
            "Input the Par value:100\n",
            "Input the Payment(annually,semi-annually,quarterly):annually\n",
            "Key one of (spot rate , forward rate , YTM) :YTM\n",
            "which year ? :3\n"
          ],
          "name": "stdout"
        },
        {
          "output_type": "error",
          "ename": "TypeError",
          "evalue": "ignored",
          "traceback": [
            "\u001b[0;31m---------------------------------------------------------------------------\u001b[0m",
            "\u001b[0;31mTypeError\u001b[0m                                 Traceback (most recent call last)",
            "\u001b[0;32m<ipython-input-16-edf5809c7dc8>\u001b[0m in \u001b[0;36m<module>\u001b[0;34m()\u001b[0m\n\u001b[1;32m     38\u001b[0m     \u001b[0mprint\u001b[0m\u001b[0;34m(\u001b[0m\u001b[0mr\u001b[0m\u001b[0;34m.\u001b[0m\u001b[0mgetforward\u001b[0m\u001b[0;34m(\u001b[0m\u001b[0mint\u001b[0m\u001b[0;34m(\u001b[0m\u001b[0minput\u001b[0m\u001b[0;34m(\u001b[0m\u001b[0;34m'i index :'\u001b[0m\u001b[0;34m)\u001b[0m\u001b[0;34m)\u001b[0m\u001b[0;34m-\u001b[0m\u001b[0;36m1\u001b[0m\u001b[0;34m,\u001b[0m\u001b[0mint\u001b[0m\u001b[0;34m(\u001b[0m\u001b[0minput\u001b[0m\u001b[0;34m(\u001b[0m\u001b[0;34m'j index :'\u001b[0m\u001b[0;34m)\u001b[0m\u001b[0;34m)\u001b[0m\u001b[0;34m-\u001b[0m\u001b[0;36m1\u001b[0m\u001b[0;34m)\u001b[0m\u001b[0;34m)\u001b[0m\u001b[0;34m\u001b[0m\u001b[0;34m\u001b[0m\u001b[0m\n\u001b[1;32m     39\u001b[0m   \u001b[0;32mif\u001b[0m \u001b[0mtask\u001b[0m \u001b[0;34m==\u001b[0m \u001b[0;34m'YTM'\u001b[0m\u001b[0;34m:\u001b[0m\u001b[0;34m\u001b[0m\u001b[0;34m\u001b[0m\u001b[0m\n\u001b[0;32m---> 40\u001b[0;31m     \u001b[0mprint\u001b[0m\u001b[0;34m(\u001b[0m\u001b[0mr\u001b[0m\u001b[0;34m.\u001b[0m\u001b[0mgetytm\u001b[0m\u001b[0;34m(\u001b[0m\u001b[0mint\u001b[0m\u001b[0;34m(\u001b[0m\u001b[0minput\u001b[0m\u001b[0;34m(\u001b[0m\u001b[0;34m'which year ? :'\u001b[0m\u001b[0;34m)\u001b[0m\u001b[0;34m)\u001b[0m\u001b[0;34m-\u001b[0m\u001b[0;36m1\u001b[0m\u001b[0;34m)\u001b[0m\u001b[0;34m)\u001b[0m\u001b[0;34m\u001b[0m\u001b[0;34m\u001b[0m\u001b[0m\n\u001b[0m\u001b[1;32m     41\u001b[0m   \u001b[0;32mif\u001b[0m \u001b[0minput\u001b[0m\u001b[0;34m(\u001b[0m\u001b[0;34m\"Key quit to quit :\"\u001b[0m\u001b[0;34m)\u001b[0m\u001b[0;34m==\u001b[0m\u001b[0;34m'quit'\u001b[0m\u001b[0;34m:\u001b[0m\u001b[0;32mbreak\u001b[0m\u001b[0;34m\u001b[0m\u001b[0;34m\u001b[0m\u001b[0m\n",
            "\u001b[0;31mTypeError\u001b[0m: getytm() takes 1 positional argument but 2 were given"
          ]
        }
      ]
    },
    {
      "cell_type": "code",
      "metadata": {
        "id": "I2BBHDYZ76ee",
        "colab_type": "code",
        "colab": {
          "base_uri": "https://localhost:8080/",
          "height": 68
        },
        "outputId": "f7d51da1-8c67-4cb3-de00-c372e466c889"
      },
      "source": [
        "a=[['-'] * 3 for i in range(3)]\n",
        "a[int(input('which year ? :'))-1][int(input('which year ? :'))-1]"
      ],
      "execution_count": 10,
      "outputs": [
        {
          "output_type": "stream",
          "text": [
            "which year ? :3\n",
            "which year ? :3\n"
          ],
          "name": "stdout"
        },
        {
          "output_type": "execute_result",
          "data": {
            "text/plain": [
              "'-'"
            ]
          },
          "metadata": {
            "tags": []
          },
          "execution_count": 10
        }
      ]
    }
  ]
}