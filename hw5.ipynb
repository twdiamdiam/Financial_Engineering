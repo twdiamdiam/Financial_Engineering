{
  "nbformat": 4,
  "nbformat_minor": 0,
  "metadata": {
    "colab": {
      "name": "hw5.ipynb",
      "provenance": [],
      "authorship_tag": "ABX9TyMXCulcBWGM+l0RNtYoO5kA",
      "include_colab_link": true
    },
    "kernelspec": {
      "name": "python3",
      "display_name": "Python 3"
    }
  },
  "cells": [
    {
      "cell_type": "markdown",
      "metadata": {
        "id": "view-in-github",
        "colab_type": "text"
      },
      "source": [
        "<a href=\"https://colab.research.google.com/github/twdiamdiam/Financial_Engineering/blob/master/hw5.ipynb\" target=\"_parent\"><img src=\"https://colab.research.google.com/assets/colab-badge.svg\" alt=\"Open In Colab\"/></a>"
      ]
    },
    {
      "cell_type": "code",
      "metadata": {
        "id": "oMrJRjGBglKZ",
        "colab_type": "code",
        "colab": {
          "base_uri": "https://localhost:8080/",
          "height": 156
        },
        "outputId": "7b8f81ed-54ba-4b1b-f0c4-e933d6f84773"
      },
      "source": [
        "!pip install QuantLib-Python"
      ],
      "execution_count": 2,
      "outputs": [
        {
          "output_type": "stream",
          "text": [
            "Collecting QuantLib-Python\n",
            "  Downloading https://files.pythonhosted.org/packages/7e/a9/4c6fac9c3c9b1625ab573531bbe9666d2f7cd6bc0a5eeb1f5792b947d9b2/QuantLib_Python-1.18-py2.py3-none-any.whl\n",
            "Collecting QuantLib\n",
            "\u001b[?25l  Downloading https://files.pythonhosted.org/packages/3a/04/6362f2197fde464bfbb5be93c0568f941ce2deec523df07fa1b646bc9bca/QuantLib-1.18-cp36-cp36m-manylinux1_x86_64.whl (18.3MB)\n",
            "\u001b[K     |████████████████████████████████| 18.3MB 1.3MB/s \n",
            "\u001b[?25hInstalling collected packages: QuantLib, QuantLib-Python\n",
            "Successfully installed QuantLib-1.18 QuantLib-Python-1.18\n"
          ],
          "name": "stdout"
        }
      ]
    },
    {
      "cell_type": "code",
      "metadata": {
        "id": "NTaj7L01hSdq",
        "colab_type": "code",
        "colab": {}
      },
      "source": [
        "import QuantLib as ql\n",
        "import matplotlib.pyplot as plt\n",
        "import numpy as np\n",
        "sigma = 0.1\n",
        "a = 0.1\n",
        "timestep = 360\n",
        "length = 30 # in years\n",
        "forward_rate = 0.05\n",
        "day_count = ql.Thirty360()\n",
        "todays_date = ql.Date(15, 1, 2015)\n",
        "ql.Settings.instance().evaluationDate = todays_date\n",
        "\n",
        "spot_curve = ql.FlatForward(todays_date, ql.QuoteHandle(ql.SimpleQuote(forward_rate)), day_count)\n",
        "spot_curve_handle = ql.YieldTermStructureHandle(spot_curve)\n",
        "hw_process = ql.HullWhiteProcess(spot_curve_handle, a, sigma)\n",
        "rng = ql.GaussianRandomSequenceGenerator(ql.UniformRandomSequenceGenerator(timestep, ql.UniformRandomGenerator()))\n",
        "seq = ql.GaussianPathGenerator(hw_process, length, timestep, rng, False)"
      ],
      "execution_count": 0,
      "outputs": []
    },
    {
      "cell_type": "code",
      "metadata": {
        "id": "ljyReUsxhpYJ",
        "colab_type": "code",
        "colab": {}
      },
      "source": [
        "def generate_paths(num_paths, timestep):\n",
        "    arr = np.zeros((num_paths, timestep+1))\n",
        "    for i in range(num_paths):\n",
        "        sample_path = seq.next()\n",
        "        path = sample_path.value()\n",
        "        time = [path.time(j) for j in range(len(path))]\n",
        "        value = [path[j] for j in range(len(path))]\n",
        "        arr[i, :] = np.array(value)\n",
        "    return np.array(time), arr"
      ],
      "execution_count": 0,
      "outputs": []
    },
    {
      "cell_type": "code",
      "metadata": {
        "id": "EYxpnuHHXeHa",
        "colab_type": "code",
        "colab": {
          "base_uri": "https://localhost:8080/",
          "height": 51
        },
        "outputId": "349d9341-d283-4538-8b79-f344eee221b8"
      },
      "source": [
        "P,C=0,0\n",
        "S = 160\n",
        "X = 150\n",
        "num_paths = 1000\n",
        "time, paths = generate_paths(num_paths, timestep)\n",
        "for j in range(num_paths):\n",
        "  P += max(0,X-S*np.exp(paths[j,length]))/num_paths\n",
        "  C += max(0,S*np.exp(paths[j,length])-X)/num_paths\n",
        "print('call/put')\n",
        "print(str(round(C*np.exp(-forward_rate*length),3))+'/'+str(round(P*np.exp(-forward_rate*length),3)))"
      ],
      "execution_count": 26,
      "outputs": [
        {
          "output_type": "stream",
          "text": [
            "call/put\n",
            "5.871/0.382\n"
          ],
          "name": "stdout"
        }
      ]
    }
  ]
}