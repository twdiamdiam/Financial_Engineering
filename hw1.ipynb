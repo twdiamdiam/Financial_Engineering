{
  "nbformat": 4,
  "nbformat_minor": 0,
  "metadata": {
    "colab": {
      "name": "Untitled1.ipynb",
      "provenance": [],
      "collapsed_sections": [],
      "authorship_tag": "ABX9TyOozq+wfVf+7FpA06CdSPpz",
      "include_colab_link": true
    },
    "kernelspec": {
      "name": "python3",
      "display_name": "Python 3"
    }
  },
  "cells": [
    {
      "cell_type": "markdown",
      "metadata": {
        "id": "view-in-github",
        "colab_type": "text"
      },
      "source": [
        "<a href=\"https://colab.research.google.com/github/twdiamdiam/Financial_Engineering/blob/master/hw1.ipynb\" target=\"_parent\"><img src=\"https://colab.research.google.com/assets/colab-badge.svg\" alt=\"Open In Colab\"/></a>"
      ]
    },
    {
      "cell_type": "code",
      "metadata": {
        "colab_type": "code",
        "id": "XKnFUIgsinwk",
        "colab": {}
      },
      "source": [
        "import math\n",
        "credit_for = { '本 金(元)': 0,'利 息(元)' : 0,'本金利息累計(元)' : 0}\n",
        "credit = {'本金 (萬元) : ' : 0, '期數(年) : ' : 0 ,'年利率(%) : ': 0}\n",
        "for x in credit:\n",
        "  credit[x] = input(x)\n",
        "t = int(credit['期數(年) : '])*12\n",
        "m = int(credit['本金 (萬元) : '])*10000\n",
        "mt = math.ceil(m/t)\n",
        "credit_for['本 金(元)'] = mt\n",
        "r = float(credit['年利率(%) : '])/1200\n",
        "for i in range(t) :\n",
        "  print('第' + str(i+1) + '期')\n",
        "  credit_for['利 息(元)'] = round(m*r)\n",
        "  m -= mt\n",
        "  if i == t-1 :\n",
        "    credit_for['本 金(元)'] = \\\n",
        "    int(credit['本金 (萬元) : '])*10000 - mt*(t-1)\n",
        "  credit_for['本金利息累計(元)'] +=\\\n",
        "  credit_for['利 息(元)'] + credit_for['本 金(元)']\n",
        "  for x in credit_for:\n",
        "    print(x + ':' + format(credit_for[x],','))"
      ],
      "execution_count": 0,
      "outputs": []
    }
  ]
}