{
  "nbformat": 4,
  "nbformat_minor": 0,
  "metadata": {
    "colab": {
      "name": "hw4.ipynb",
      "provenance": [],
      "authorship_tag": "ABX9TyO4v4iH912A0+vEJ9C7ZLSS",
      "include_colab_link": true
    },
    "kernelspec": {
      "name": "python3",
      "display_name": "Python 3"
    }
  },
  "cells": [
    {
      "cell_type": "markdown",
      "metadata": {
        "id": "view-in-github",
        "colab_type": "text"
      },
      "source": [
        "<a href=\"https://colab.research.google.com/github/twdiamdiam/Financial_Engineering/blob/master/hw4.ipynb\" target=\"_parent\"><img src=\"https://colab.research.google.com/assets/colab-badge.svg\" alt=\"Open In Colab\"/></a>"
      ]
    },
    {
      "cell_type": "code",
      "metadata": {
        "id": "o0BXttNh5XLt",
        "colab_type": "code",
        "colab": {
          "base_uri": "https://localhost:8080/",
          "height": 153
        },
        "outputId": "64f69fe9-ab30-44b2-e0d8-09030d72dac4"
      },
      "source": [
        "import math\n",
        "from scipy.stats import norm\n",
        "s=float(input('input stock currently price : '))\n",
        "d=float(input('input stock dividend per quarter : '))\n",
        "r=float(input('input risk free rate : '))\n",
        "x=float(input('input the strike price : '))\n",
        "v=float(input('input the volatility of returns of the underlying asset : '))\n",
        "t=int(input('input the time to maturity (expressed in months) : '))\n",
        "# s=75\n",
        "# d=1\n",
        "# r=0.06\n",
        "# x=65\n",
        "# v=0.35\n",
        "# t=6\n",
        "D=0\n",
        "for i in range(1,t,3):\n",
        "  D+=d*math.exp(-r*(i/12))\n",
        "S=s-D\n",
        "d1=(math.log(S/x)+(r+v**2/2)*(t/12))/(v*(t/12)**(1/2))\n",
        "d2=d1-(v*(t/12)**(1/2))\n",
        "p=x*math.exp(-r*(t/12))*norm.cdf(-d2)-S*norm.cdf(-d1)\n",
        "c=-x*math.exp(-r*(t/12))*norm.cdf(d2)+S*norm.cdf(d1)\n",
        "print('call/put')\n",
        "print(str(round(c,3))+'/'+str(round(p,3)))"
      ],
      "execution_count": 18,
      "outputs": [
        {
          "output_type": "stream",
          "text": [
            "input stock currently price : 75\n",
            "input stock dividend per quarter : 1\n",
            "input risk free rate : 0.06\n",
            "input the strike price : 65\n",
            "input the volatility of returns of the underlying asset : 0.35\n",
            "input the time to maturity (expressed in months) : 6\n",
            "call/put\n",
            "12.806/2.86\n"
          ],
          "name": "stdout"
        }
      ]
    }
  ]
}